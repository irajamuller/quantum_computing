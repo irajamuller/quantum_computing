{
  "nbformat": 4,
  "nbformat_minor": 0,
  "metadata": {
    "colab": {
      "provenance": [],
      "authorship_tag": "ABX9TyNcoYbY53ukGeQ/siva3Ict",
      "include_colab_link": true
    },
    "kernelspec": {
      "name": "python3",
      "display_name": "Python 3"
    },
    "language_info": {
      "name": "python"
    }
  },
  "cells": [
    {
      "cell_type": "markdown",
      "metadata": {
        "id": "view-in-github",
        "colab_type": "text"
      },
      "source": [
        "<a href=\"https://colab.research.google.com/github/irajamuller/quantum_computing/blob/main/N%C3%BAmeros_Complexos.ipynb\" target=\"_parent\"><img src=\"https://colab.research.google.com/assets/colab-badge.svg\" alt=\"Open In Colab\"/></a>"
      ]
    },
    {
      "cell_type": "code",
      "source": [
        "import numpy as np\n",
        "from IPython.display import display, Math"
      ],
      "metadata": {
        "id": "Drtb3bqlfEMA"
      },
      "execution_count": 1,
      "outputs": []
    },
    {
      "cell_type": "code",
      "source": [
        "# Declarando um número complexo\n",
        "a = 2 + 3j\n",
        "display(Math(f'{a}'))"
      ],
      "metadata": {
        "colab": {
          "base_uri": "https://localhost:8080/",
          "height": 39
        },
        "id": "R8fzi3rC-xHn",
        "outputId": "ed03f3c3-8163-4d90-fbe7-04348b98ec37"
      },
      "execution_count": 9,
      "outputs": [
        {
          "output_type": "display_data",
          "data": {
            "text/plain": [
              "<IPython.core.display.Math object>"
            ],
            "text/latex": "$\\displaystyle (2+3j)$"
          },
          "metadata": {}
        }
      ]
    },
    {
      "cell_type": "code",
      "source": [
        "b = 3 + 0j\n",
        "c = -2j\n",
        "print(c)"
      ],
      "metadata": {
        "colab": {
          "base_uri": "https://localhost:8080/"
        },
        "id": "yBB9-lyX_Km0",
        "outputId": "14e74511-733f-4e34-ad40-2fef1d258034"
      },
      "execution_count": 12,
      "outputs": [
        {
          "output_type": "stream",
          "name": "stdout",
          "text": [
            "(-0-2j)\n"
          ]
        }
      ]
    },
    {
      "cell_type": "code",
      "source": [
        "# Comparando dois números complexos\n",
        "a = 1 + 2j\n",
        "b = 1 + 2j\n",
        "print(a == b)"
      ],
      "metadata": {
        "colab": {
          "base_uri": "https://localhost:8080/"
        },
        "id": "5wEi_24J_ZME",
        "outputId": "87083c46-7a49-45e3-9dd5-20cb8ed022f5"
      },
      "execution_count": 13,
      "outputs": [
        {
          "output_type": "stream",
          "name": "stdout",
          "text": [
            "True\n"
          ]
        }
      ]
    },
    {
      "cell_type": "code",
      "source": [
        "# Extraindo parte real e parte imaginária\n",
        "a = 10 + np.sqrt(2) * 1j\n",
        "print(f'Parte real: {a.real}')\n",
        "print(f'Parte imaginária: {a.imag}')"
      ],
      "metadata": {
        "colab": {
          "base_uri": "https://localhost:8080/"
        },
        "id": "TaZYxjRI_k3E",
        "outputId": "9ee4b0cc-af49-4038-fb45-4df9fb70e404"
      },
      "execution_count": 17,
      "outputs": [
        {
          "output_type": "stream",
          "name": "stdout",
          "text": [
            "Parte real: 10.0\n",
            "Parte imaginária: 1.4142135623730951\n"
          ]
        }
      ]
    },
    {
      "cell_type": "code",
      "source": [
        "# Multiplicação de números complexos\n",
        "a = 2 + 2j\n",
        "b = 3 + 5j\n",
        "print(f'a * b = {a * b}')"
      ],
      "metadata": {
        "colab": {
          "base_uri": "https://localhost:8080/"
        },
        "id": "2LM2sFIS_2Ck",
        "outputId": "1eab331b-c9fa-4d53-f0d8-8c65eb3cff5d"
      },
      "execution_count": 18,
      "outputs": [
        {
          "output_type": "stream",
          "name": "stdout",
          "text": [
            "a * b = (-4+16j)\n"
          ]
        }
      ]
    },
    {
      "cell_type": "code",
      "source": [
        "# Operação de conjugado complexo\n",
        "a = 2 + 2j\n",
        "b = np.conjugate(a)\n",
        "print(f'Conjugado de a: {a.conjugate()}')\n",
        "print(b.conjugate())"
      ],
      "metadata": {
        "colab": {
          "base_uri": "https://localhost:8080/"
        },
        "id": "PsnGQPwIAHsQ",
        "outputId": "e71c271b-8537-4256-afbc-530e815d1eba"
      },
      "execution_count": 23,
      "outputs": [
        {
          "output_type": "stream",
          "name": "stdout",
          "text": [
            "Conjugado de a: (2-2j)\n",
            "(2+2j)\n"
          ]
        }
      ]
    },
    {
      "cell_type": "code",
      "source": [
        "# Divisão de números complexos\n",
        "x = 2 + 1j  # (c, d no cálculo do slide)\n",
        "y = 3 + 2j  # (a, b no cálculo do slide)\n",
        "print(f'x / y = {x / y}')\n",
        "print(f'Real {(x.real * y.real + x.imag * y.imag) / (y.real ** 2 + y.imag ** 2)}') # 8 / 13\n",
        "print(f'Real {(x.imag * y.real - x.real * y.imag) / (y.real ** 2 + y.imag ** 2)}') # 1 / 13"
      ],
      "metadata": {
        "colab": {
          "base_uri": "https://localhost:8080/"
        },
        "id": "n9BQQEgjAqAz",
        "outputId": "b1cb187c-b09d-4166-9007-dbc6e8b19f2c"
      },
      "execution_count": 59,
      "outputs": [
        {
          "output_type": "stream",
          "name": "stdout",
          "text": [
            "x / y = (0.6153846153846154-0.07692307692307691j)\n",
            "Real 0.6153846153846154\n",
            "Real -0.07692307692307693\n"
          ]
        }
      ]
    },
    {
      "cell_type": "code",
      "source": [
        "# Vetor coluna (ket) e vetor linha (bra)\n",
        "ket0 = np.array([ [1], [0] ])\n",
        "bra0 = np.array([ [1, 0 ]])\n",
        "print(ket0)\n",
        "print(bra0)"
      ],
      "metadata": {
        "colab": {
          "base_uri": "https://localhost:8080/"
        },
        "id": "KWcCNVOGB0g6",
        "outputId": "09f18fc4-802c-4cdd-ce4a-69d0fc9221c9"
      },
      "execution_count": 33,
      "outputs": [
        {
          "output_type": "stream",
          "name": "stdout",
          "text": [
            "[[1]\n",
            " [0]]\n",
            "[[1 0]]\n"
          ]
        }
      ]
    },
    {
      "cell_type": "code",
      "source": [
        "# Operação de complexo conjugado em um vetor/matriz\n",
        "ket0 = np.array([ [1 + 2j], [4 -3j] ])\n",
        "print(ket0)\n",
        "print(ket0.conj())"
      ],
      "metadata": {
        "colab": {
          "base_uri": "https://localhost:8080/"
        },
        "id": "-WHabehVCOhP",
        "outputId": "79f0b814-8805-436a-d779-b83d29dde493"
      },
      "execution_count": 36,
      "outputs": [
        {
          "output_type": "stream",
          "name": "stdout",
          "text": [
            "[[1.+2.j]\n",
            " [4.-3.j]]\n",
            "[[1.-2.j]\n",
            " [4.+3.j]]\n"
          ]
        }
      ]
    },
    {
      "cell_type": "code",
      "source": [
        "# Operação de transposição em um vetor/matriz\n",
        "ket0 = np.array([ [1 + 2j], [4 -3j] ])\n",
        "print(ket0.T)"
      ],
      "metadata": {
        "colab": {
          "base_uri": "https://localhost:8080/"
        },
        "id": "uugPr-0qCCrA",
        "outputId": "b659a1e9-4381-4699-f44c-4c0113cf983d"
      },
      "execution_count": 37,
      "outputs": [
        {
          "output_type": "stream",
          "name": "stdout",
          "text": [
            "[[1.+2.j 4.-3.j]]\n"
          ]
        }
      ]
    },
    {
      "cell_type": "code",
      "source": [
        "# Operação de dagger\n",
        "ket0 = np.array([ [1 + 2j], [4 -3j] ])\n",
        "bra0 = ket0.conjugate().T\n",
        "print(bra0.conjugate().T)"
      ],
      "metadata": {
        "colab": {
          "base_uri": "https://localhost:8080/"
        },
        "id": "wzjTr7WqDB2G",
        "outputId": "5d8657c1-d607-4076-95f0-bc1be4eb27fc"
      },
      "execution_count": 40,
      "outputs": [
        {
          "output_type": "stream",
          "name": "stdout",
          "text": [
            "[[1.+2.j]\n",
            " [4.-3.j]]\n"
          ]
        }
      ]
    },
    {
      "cell_type": "code",
      "source": [
        "# Multiplicação por um escalar (k)\n",
        "ket0 = np.array([ [1 + 2j], [4 -3j] ])\n",
        "k = 2\n",
        "print(k * ket0)"
      ],
      "metadata": {
        "colab": {
          "base_uri": "https://localhost:8080/"
        },
        "id": "wHlP62Z4DSYO",
        "outputId": "8c690548-17b6-452b-e90b-e882715c82fe"
      },
      "execution_count": 41,
      "outputs": [
        {
          "output_type": "stream",
          "name": "stdout",
          "text": [
            "[[2.+4.j]\n",
            " [8.-6.j]]\n"
          ]
        }
      ]
    },
    {
      "cell_type": "code",
      "source": [
        "a = np.array([ [1, 2, 3], [4, 5, 6] ])\n",
        "b = np.array([ [7, 8], [9, 10], [11, 12] ])\n",
        "print(a)\n",
        "print(b)\n",
        "print(a @ b)"
      ],
      "metadata": {
        "colab": {
          "base_uri": "https://localhost:8080/"
        },
        "id": "S9Q1E4QTDW7-",
        "outputId": "33194c81-49f2-492e-9935-1255bebd494c"
      },
      "execution_count": 50,
      "outputs": [
        {
          "output_type": "stream",
          "name": "stdout",
          "text": [
            "[[1 2 3]\n",
            " [4 5 6]]\n",
            "[[ 7  8]\n",
            " [ 9 10]\n",
            " [11 12]]\n",
            "[[ 58  64]\n",
            " [139 154]]\n"
          ]
        }
      ]
    },
    {
      "cell_type": "code",
      "source": [
        "a = np.array([ [4, 7], [2, 6] ])\n",
        "# print(np.linalg.inv(a))\n",
        "# print(np.linalg.det(a))\n",
        "\n",
        "a_1 = np.linalg.inv(a)\n",
        "print(a @ a_1)\n"
      ],
      "metadata": {
        "colab": {
          "base_uri": "https://localhost:8080/"
        },
        "id": "e6XPTNa7D6j8",
        "outputId": "e566f14f-9243-4e31-86b8-4378811994b3"
      },
      "execution_count": 56,
      "outputs": [
        {
          "output_type": "stream",
          "name": "stdout",
          "text": [
            "[[ 1.00000000e+00 -1.11022302e-16]\n",
            " [ 1.11022302e-16  1.00000000e+00]]\n"
          ]
        }
      ]
    }
  ]
}