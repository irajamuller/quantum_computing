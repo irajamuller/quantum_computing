{
  "nbformat": 4,
  "nbformat_minor": 0,
  "metadata": {
    "colab": {
      "provenance": [],
      "authorship_tag": "ABX9TyNM3/+i+ZvGOrnRD+jdeDte",
      "include_colab_link": true
    },
    "kernelspec": {
      "name": "python3",
      "display_name": "Python 3"
    },
    "language_info": {
      "name": "python"
    }
  },
  "cells": [
    {
      "cell_type": "markdown",
      "metadata": {
        "id": "view-in-github",
        "colab_type": "text"
      },
      "source": [
        "<a href=\"https://colab.research.google.com/github/irajamuller/quantum_computing/blob/main/Algoritmo_de_Deutsch_e_Porta_AND_OR.ipynb\" target=\"_parent\"><img src=\"https://colab.research.google.com/assets/colab-badge.svg\" alt=\"Open In Colab\"/></a>"
      ]
    },
    {
      "cell_type": "code",
      "execution_count": null,
      "metadata": {
        "colab": {
          "base_uri": "https://localhost:8080/"
        },
        "id": "kHAKPxjSan_K",
        "outputId": "a21dc814-1b19-44a3-9497-4bd206bcf10e"
      },
      "outputs": [
        {
          "output_type": "stream",
          "name": "stdout",
          "text": [
            "\u001b[2K   \u001b[90m━━━━━━━━━━━━━━━━━━━━━━━━━━━━━━━━━━━━━━━━\u001b[0m \u001b[32m8.0/8.0 MB\u001b[0m \u001b[31m37.1 MB/s\u001b[0m eta \u001b[36m0:00:00\u001b[0m\n",
            "\u001b[2K   \u001b[90m━━━━━━━━━━━━━━━━━━━━━━━━━━━━━━━━━━━━━━━━\u001b[0m \u001b[32m2.2/2.2 MB\u001b[0m \u001b[31m77.5 MB/s\u001b[0m eta \u001b[36m0:00:00\u001b[0m\n",
            "\u001b[2K   \u001b[90m━━━━━━━━━━━━━━━━━━━━━━━━━━━━━━━━━━━━━━━━\u001b[0m \u001b[32m49.5/49.5 kB\u001b[0m \u001b[31m3.8 MB/s\u001b[0m eta \u001b[36m0:00:00\u001b[0m\n",
            "\u001b[2K   \u001b[90m━━━━━━━━━━━━━━━━━━━━━━━━━━━━━━━━━━━━━━━━\u001b[0m \u001b[32m12.4/12.4 MB\u001b[0m \u001b[31m59.1 MB/s\u001b[0m eta \u001b[36m0:00:00\u001b[0m\n",
            "\u001b[2K     \u001b[90m━━━━━━━━━━━━━━━━━━━━━━━━━━━━━━━━━━━━━━━\u001b[0m \u001b[32m162.6/162.6 kB\u001b[0m \u001b[31m4.6 MB/s\u001b[0m eta \u001b[36m0:00:00\u001b[0m\n",
            "\u001b[?25h  Preparing metadata (setup.py) ... \u001b[?25l\u001b[?25hdone\n",
            "  Building wheel for pylatexenc (setup.py) ... \u001b[?25l\u001b[?25hdone\n"
          ]
        }
      ],
      "source": [
        "!pip install qiskit --quiet\n",
        "!pip install qiskit-aer --quiet\n",
        "!pip install pylatexenc --quiet"
      ]
    },
    {
      "cell_type": "code",
      "source": [
        "from qiskit import QuantumCircuit, transpile\n",
        "from qiskit_aer import AerSimulator\n",
        "from qiskit.visualization import plot_histogram, array_to_latex\n",
        "\n",
        "import qiskit.quantum_info as qi\n",
        "import numpy as np\n",
        "import random as rd\n"
      ],
      "metadata": {
        "id": "C8WIjijSaxRf"
      },
      "execution_count": null,
      "outputs": []
    },
    {
      "cell_type": "code",
      "source": [
        "qc_t = transpile(qc)\n",
        "backend = AerSimulator()\n",
        "\n",
        "result = backend.run(qc_t, shots=1000).result()\n",
        "counts = result.get_counts()"
      ],
      "metadata": {
        "id": "L5MznLsyZAw-"
      },
      "execution_count": null,
      "outputs": []
    },
    {
      "cell_type": "code",
      "source": [
        "for k in sorted(counts, key=lambda x: int(x, 2)):\n",
        "  print(f'A = {k[2]}, B = {k[1]}, OUTPUT = {k[0]}')"
      ],
      "metadata": {
        "colab": {
          "base_uri": "https://localhost:8080/"
        },
        "id": "7Cjh3hhrZJF5",
        "outputId": "6a06c18f-dcbc-41ea-aa4a-d8bf454a551b"
      },
      "execution_count": null,
      "outputs": [
        {
          "output_type": "stream",
          "name": "stdout",
          "text": [
            "A = 0, B = 0, OUTPUT = 0\n",
            "A = 1, B = 0, OUTPUT = 1\n",
            "A = 0, B = 1, OUTPUT = 1\n",
            "A = 1, B = 1, OUTPUT = 1\n"
          ]
        }
      ]
    },
    {
      "cell_type": "code",
      "source": [
        "def deutsch_oracle(case):\n",
        "  qc = QuantumCircuit(2)\n",
        "  choice = rd.randint(0, 1)\n",
        "\n",
        "  if case == 'constant':\n",
        "    if choice == 0:\n",
        "      qc.id(1) # ID / não faz nada\n",
        "    else:\n",
        "      qc.x(1) # NOT\n",
        "  else:\n",
        "    if choice == 0:\n",
        "      qc.cx(0, 1) # CNOT\n",
        "    else:\n",
        "      qc.cx(0, 1) # CNOT\n",
        "      qc.x(1) # NOT\n",
        "\n",
        "  return qc"
      ],
      "metadata": {
        "id": "cRRHiybQbNuW"
      },
      "execution_count": null,
      "outputs": []
    },
    {
      "cell_type": "code",
      "source": [
        "def deutsch_circuit(choice):\n",
        "  oracle = deutsch_oracle(choice)\n",
        "\n",
        "  qc = QuantumCircuit(2, 1)\n",
        "  qc.initialize([0, 1], 1)\n",
        "  qc.barrier()\n",
        "  qc.h([0, 1])\n",
        "  qc.barrier()\n",
        "  qc.compose(oracle, inplace=True)\n",
        "  qc.barrier()\n",
        "  qc.h(0)\n",
        "  qc.measure(0, 0)\n",
        "\n",
        "  return qc"
      ],
      "metadata": {
        "id": "qZpUennolops"
      },
      "execution_count": null,
      "outputs": []
    },
    {
      "cell_type": "code",
      "source": [
        "list = ['constant', 'balanced']\n",
        "choice = rd.choice(list)\n",
        "qc = deutsch_circuit(choice)\n",
        "\n",
        "qc_t = transpile(qc)\n",
        "backend = AerSimulator()\n",
        "\n",
        "result = backend.run(qc_t, shots=1).result()\n",
        "print(result.get_counts(), choice)"
      ],
      "metadata": {
        "colab": {
          "base_uri": "https://localhost:8080/"
        },
        "id": "TOYvcm4mekno",
        "outputId": "e0ff344a-f789-4a99-95bb-fefebf78c1f7"
      },
      "execution_count": null,
      "outputs": [
        {
          "output_type": "stream",
          "name": "stdout",
          "text": [
            "{'0': 1} constant\n"
          ]
        }
      ]
    },
    {
      "cell_type": "code",
      "source": [
        "qc.draw('mpl')"
      ],
      "metadata": {
        "colab": {
          "base_uri": "https://localhost:8080/",
          "height": 255
        },
        "id": "xYwnpqUIYO92",
        "outputId": "721f8740-18fd-4d0b-aa3a-bdbce0a7c940"
      },
      "execution_count": null,
      "outputs": [
        {
          "output_type": "execute_result",
          "data": {
            "text/plain": [
              "<Figure size 788.961x284.278 with 1 Axes>"
            ],
            "image/png": "[encoded data removed]"
          },
          "metadata": {},
          "execution_count": 20
        }
      ]
    },
    {
      "cell_type": "code",
      "source": [
        "# Tabela-verdade OR\n",
        "qc = QuantumCircuit(3, 3)\n",
        "qc.h([0, 1])\n",
        "qc.ccx(0, 1, 2)\n",
        "qc.cx(0, 1)\n",
        "qc.cx(1, 2)\n",
        "qc.measure([0, 1, 2], [0, 1, 2])\n",
        "qc.draw('mpl')"
      ],
      "metadata": {
        "id": "njy07PqJXXi4"
      },
      "execution_count": null,
      "outputs": []
    },
    {
      "cell_type": "code",
      "source": [
        "# Tabela-verdade AND\n",
        "qc = QuantumCircuit(3, 3)\n",
        "qc.h([0, 1])\n",
        "qc.ccx(0, 1, 2)\n",
        "qc.measure([0, 1, 2], [0, 1, 2])\n",
        "qc.draw('mpl')"
      ],
      "metadata": {
        "id": "ErvYAhjgXZlB"
      },
      "execution_count": null,
      "outputs": []
    }
  ]
}