{
  "nbformat": 4,
  "nbformat_minor": 0,
  "metadata": {
    "colab": {
      "provenance": [],
      "authorship_tag": "ABX9TyM6LzIsyNehycUUWrNVLd/R",
      "include_colab_link": true
    },
    "kernelspec": {
      "name": "python3",
      "display_name": "Python 3"
    },
    "language_info": {
      "name": "python"
    }
  },
  "cells": [
    {
      "cell_type": "markdown",
      "metadata": {
        "id": "view-in-github",
        "colab_type": "text"
      },
      "source": [
        "<a href=\"https://colab.research.google.com/github/irajamuller/quantum_computing/blob/main/Circuito_Qu%C3%A2ntico_2_qubits%2C_Operador_Densidade_e_Esfera_de_Bloch.ipynb\" target=\"_parent\"><img src=\"https://colab.research.google.com/assets/colab-badge.svg\" alt=\"Open In Colab\"/></a>"
      ]
    },
    {
      "cell_type": "code",
      "execution_count": null,
      "metadata": {
        "id": "Ru5xD9VG8P9o"
      },
      "outputs": [],
      "source": [
        "!pip install qiskit --quiet\n",
        "!pip install qiskit-aer --quiet\n",
        "!pip install pylatexenc --quiet\n",
        "!pip install qutip --quiet"
      ]
    },
    {
      "cell_type": "code",
      "source": [
        "from qiskit import QuantumCircuit, transpile\n",
        "from qiskit_aer import AerSimulator\n",
        "from qiskit.visualization import plot_histogram, array_to_latex\n",
        "from qiskit.quantum_info import Statevector, DensityMatrix, purity, partial_trace\n",
        "from qutip import Bloch\n",
        "\n",
        "import numpy as np"
      ],
      "metadata": {
        "id": "LKoZCQIgNamJ"
      },
      "execution_count": null,
      "outputs": []
    },
    {
      "cell_type": "markdown",
      "source": [
        "# Circuito Quântico de 2 qubits"
      ],
      "metadata": {
        "id": "VyVnziufgSo0"
      }
    },
    {
      "cell_type": "code",
      "source": [
        "# Portas quânticas (operações unitárias)\n",
        "I = np.array([ [1, 0], [0, 1] ])\n",
        "X = np.array([ [0, 1], [1, 0] ])\n",
        "H = np.array([ [1, 1], [1, -1] ]) * 1/np.sqrt(2)"
      ],
      "metadata": {
        "id": "OOyU2I9CeOPV"
      },
      "execution_count": null,
      "outputs": []
    },
    {
      "cell_type": "code",
      "source": [
        "# Estado 2 qubits em |00>\n",
        "ket0 = np.array([ [1], [0] ])\n",
        "ket1 = np.array([ [0], [1] ])\n",
        "psi = np.kron(ket0, ket0)\n",
        "array_to_latex(psi)"
      ],
      "metadata": {
        "colab": {
          "base_uri": "https://localhost:8080/",
          "height": 98
        },
        "id": "5WOzyGMJfIiP",
        "outputId": "7d2f406d-85a3-422d-9410-abacf0e80491"
      },
      "execution_count": null,
      "outputs": [
        {
          "output_type": "execute_result",
          "data": {
            "text/plain": [
              "<IPython.core.display.Latex object>"
            ],
            "text/latex": "$$\n\n\\begin{bmatrix}\n1  \\\\\n 0  \\\\\n 0  \\\\\n 0  \\\\\n \\end{bmatrix}\n$$"
          },
          "metadata": {},
          "execution_count": 4
        }
      ]
    },
    {
      "cell_type": "code",
      "source": [],
      "metadata": {
        "id": "mqfkjpdCfWH4"
      },
      "execution_count": null,
      "outputs": []
    },
    {
      "cell_type": "code",
      "source": [
        "# Aplicando porta X no primeiro qubit e identidade no segundo qubit\n",
        "psi1 = np.kron(X, I) @ psi\n",
        "array_to_latex(psi1)"
      ],
      "metadata": {
        "colab": {
          "base_uri": "https://localhost:8080/",
          "height": 98
        },
        "id": "b_0X-rdnfi7d",
        "outputId": "aa22e4ae-307a-4609-cdc2-eb25f3451a6f"
      },
      "execution_count": null,
      "outputs": [
        {
          "output_type": "execute_result",
          "data": {
            "text/plain": [
              "<IPython.core.display.Latex object>"
            ],
            "text/latex": "$$\n\n\\begin{bmatrix}\n0  \\\\\n 0  \\\\\n 1  \\\\\n 0  \\\\\n \\end{bmatrix}\n$$"
          },
          "metadata": {},
          "execution_count": 5
        }
      ]
    },
    {
      "cell_type": "code",
      "source": [
        "# Aplicando porta X no primeiro qubit e hadamard no segundo qubit\n",
        "psi2 = np.kron(X, H) @ psi1\n",
        "array_to_latex(psi2)"
      ],
      "metadata": {
        "colab": {
          "base_uri": "https://localhost:8080/",
          "height": 105
        },
        "id": "GtvMOg04f_mz",
        "outputId": "0795b873-448e-4018-b24a-341419333008"
      },
      "execution_count": null,
      "outputs": [
        {
          "output_type": "execute_result",
          "data": {
            "text/plain": [
              "<IPython.core.display.Latex object>"
            ],
            "text/latex": "$$\n\n\\begin{bmatrix}\n\\frac{\\sqrt{2}}{2}  \\\\\n \\frac{\\sqrt{2}}{2}  \\\\\n 0  \\\\\n 0  \\\\\n \\end{bmatrix}\n$$"
          },
          "metadata": {},
          "execution_count": 7
        }
      ]
    },
    {
      "cell_type": "markdown",
      "source": [
        "# Porta CNOT"
      ],
      "metadata": {
        "id": "heKBswMhgXOy"
      }
    },
    {
      "cell_type": "code",
      "source": [
        "CNOT = np.kron(ket0 @ ket0.conj().T, I)\n",
        "CNOT = CNOT + np.kron(ket1 @ ket1.conj().T, X)\n",
        "array_to_latex(CNOT)"
      ],
      "metadata": {
        "colab": {
          "base_uri": "https://localhost:8080/",
          "height": 98
        },
        "id": "ro9cjQfkga7h",
        "outputId": "081ec785-19df-4256-ace2-7b57599a8df5"
      },
      "execution_count": null,
      "outputs": [
        {
          "output_type": "execute_result",
          "data": {
            "text/plain": [
              "<IPython.core.display.Latex object>"
            ],
            "text/latex": "$$\n\n\\begin{bmatrix}\n1 & 0 & 0 & 0  \\\\\n 0 & 1 & 0 & 0  \\\\\n 0 & 0 & 0 & 1  \\\\\n 0 & 0 & 1 & 0  \\\\\n \\end{bmatrix}\n$$"
          },
          "metadata": {},
          "execution_count": 9
        }
      ]
    },
    {
      "cell_type": "code",
      "source": [
        "psi10 = np.kron(ket1, ket0)\n",
        "array_to_latex(psi10)"
      ],
      "metadata": {
        "colab": {
          "base_uri": "https://localhost:8080/",
          "height": 98
        },
        "id": "7MhPObVY6u45",
        "outputId": "79c05be5-f0de-4e90-be07-134a7f1c12c2"
      },
      "execution_count": null,
      "outputs": [
        {
          "output_type": "execute_result",
          "data": {
            "text/plain": [
              "<IPython.core.display.Latex object>"
            ],
            "text/latex": "$$\n\n\\begin{bmatrix}\n0  \\\\\n 0  \\\\\n 1  \\\\\n 0  \\\\\n \\end{bmatrix}\n$$"
          },
          "metadata": {},
          "execution_count": 10
        }
      ]
    },
    {
      "cell_type": "code",
      "source": [
        "# Aplicando a CNOT em dois qubits |10>\n",
        "array_to_latex(CNOT @ psi10)"
      ],
      "metadata": {
        "colab": {
          "base_uri": "https://localhost:8080/",
          "height": 98
        },
        "id": "nowZEosKhEhE",
        "outputId": "97b88595-50e2-4bbe-a18c-ddb84a5206ff"
      },
      "execution_count": null,
      "outputs": [
        {
          "output_type": "execute_result",
          "data": {
            "text/plain": [
              "<IPython.core.display.Latex object>"
            ],
            "text/latex": "$$\n\n\\begin{bmatrix}\n0  \\\\\n 0  \\\\\n 0  \\\\\n 1  \\\\\n \\end{bmatrix}\n$$"
          },
          "metadata": {},
          "execution_count": 11
        }
      ]
    },
    {
      "cell_type": "code",
      "source": [
        "# Aplicando a CNOT em dois qubits |11>\n",
        "psi11 = np.kron(ket1, ket1)\n",
        "array_to_latex(CNOT @ psi11)"
      ],
      "metadata": {
        "colab": {
          "base_uri": "https://localhost:8080/",
          "height": 98
        },
        "id": "Yc-Um-nShtOK",
        "outputId": "66b90a1f-80e8-40b3-e779-9db1cfcb01b9"
      },
      "execution_count": null,
      "outputs": [
        {
          "output_type": "execute_result",
          "data": {
            "text/plain": [
              "<IPython.core.display.Latex object>"
            ],
            "text/latex": "$$\n\n\\begin{bmatrix}\n0  \\\\\n 0  \\\\\n 1  \\\\\n 0  \\\\\n \\end{bmatrix}\n$$"
          },
          "metadata": {},
          "execution_count": 12
        }
      ]
    },
    {
      "cell_type": "markdown",
      "source": [
        "# Medição"
      ],
      "metadata": {
        "id": "xDLCBFqCh6ao"
      }
    },
    {
      "cell_type": "code",
      "source": [
        "qc = QuantumCircuit(2, 2)\n",
        "qc.initialize([ np.sqrt(0.2), np.sqrt(0.2), np.sqrt(0.1), np.sqrt(0.5) ], [0, 1])\n",
        "qc.measure([0, 1], [0, 1])\n",
        "qc.draw('mpl')"
      ],
      "metadata": {
        "colab": {
          "base_uri": "https://localhost:8080/",
          "height": 255
        },
        "id": "g2-Q8kH_h4Zr",
        "outputId": "4532c19a-f56e-4256-82de-51ebaba5b54c"
      },
      "execution_count": null,
      "outputs": [
        {
          "output_type": "execute_result",
          "data": {
            "text/plain": [
              "<Figure size 538.128x284.278 with 1 Axes>"
            ],
            "image/png": "[encoded data removed]"
          },
          "metadata": {},
          "execution_count": 14
        }
      ]
    },
    {
      "cell_type": "code",
      "source": [
        "qc_t = transpile(qc)\n",
        "backend = AerSimulator()\n",
        "\n",
        "result = backend.run(qc_t, shots=1000).result()\n",
        "counts = result.get_counts()\n",
        "plot_histogram(counts)"
      ],
      "metadata": {
        "colab": {
          "base_uri": "https://localhost:8080/",
          "height": 487
        },
        "id": "VAcn0veOqkgF",
        "outputId": "3d450f1f-c1b2-4ba5-f7fd-f2901bdb09f2"
      },
      "execution_count": null,
      "outputs": [
        {
          "output_type": "execute_result",
          "data": {
            "text/plain": [
              "<Figure size 640x480 with 1 Axes>"
            ],
            "image/png": "[encoded data removed]"
          },
          "metadata": {},
          "execution_count": 16
        }
      ]
    },
    {
      "cell_type": "markdown",
      "source": [
        "# Operador Densidade(ρ)"
      ],
      "metadata": {
        "id": "XLRwrm0_q2I0"
      }
    },
    {
      "cell_type": "code",
      "source": [
        "# Estado Puro\n",
        "psi = np.array([ [1/np.sqrt(2)], [1/np.sqrt(2) * 1j] ])\n",
        "array_to_latex(psi)"
      ],
      "metadata": {
        "colab": {
          "base_uri": "https://localhost:8080/",
          "height": 68
        },
        "id": "ABBfjgyoq5g5",
        "outputId": "a2440bb6-b58a-4462-8cb2-473390700d34"
      },
      "execution_count": null,
      "outputs": [
        {
          "output_type": "execute_result",
          "data": {
            "text/plain": [
              "<IPython.core.display.Latex object>"
            ],
            "text/latex": "$$\n\n\\begin{bmatrix}\n\\frac{\\sqrt{2}}{2}  \\\\\n \\frac{\\sqrt{2} i}{2}  \\\\\n \\end{bmatrix}\n$$"
          },
          "metadata": {},
          "execution_count": 31
        }
      ]
    },
    {
      "cell_type": "code",
      "source": [
        "rho = psi @ psi.T.conj()\n",
        "array_to_latex(rho)"
      ],
      "metadata": {
        "colab": {
          "base_uri": "https://localhost:8080/",
          "height": 58
        },
        "id": "45BED_WArKUb",
        "outputId": "0ba82f6d-f1db-46c6-ac57-1f7a21343ab0"
      },
      "execution_count": null,
      "outputs": [
        {
          "output_type": "execute_result",
          "data": {
            "text/plain": [
              "<IPython.core.display.Latex object>"
            ],
            "text/latex": "$$\n\n\\begin{bmatrix}\n\\frac{1}{2} & - \\frac{i}{2}  \\\\\n \\frac{i}{2} & \\frac{1}{2}  \\\\\n \\end{bmatrix}\n$$"
          },
          "metadata": {},
          "execution_count": 32
        }
      ]
    },
    {
      "cell_type": "code",
      "source": [
        "# Tr(p)\n",
        "array_to_latex(partial_trace(rho, [0]))"
      ],
      "metadata": {
        "colab": {
          "base_uri": "https://localhost:8080/",
          "height": 39
        },
        "id": "SRMv5qJ1ssJA",
        "outputId": "012d4f03-3750-493c-ca0e-b31326ae1b5d"
      },
      "execution_count": null,
      "outputs": [
        {
          "output_type": "execute_result",
          "data": {
            "text/plain": [
              "<IPython.core.display.Latex object>"
            ],
            "text/latex": "$$\n\n\\begin{bmatrix}\n1  \\\\\n \\end{bmatrix}\n$$"
          },
          "metadata": {},
          "execution_count": 34
        }
      ]
    },
    {
      "cell_type": "code",
      "source": [
        "# Tr(p^2)\n",
        "print(np.round(purity(rho), 1))"
      ],
      "metadata": {
        "colab": {
          "base_uri": "https://localhost:8080/"
        },
        "id": "3EbQ_kXFrcgA",
        "outputId": "70dc3c15-5655-4147-ad34-4502cbcff1ed"
      },
      "execution_count": null,
      "outputs": [
        {
          "output_type": "stream",
          "name": "stdout",
          "text": [
            "(1+0j)\n"
          ]
        }
      ]
    },
    {
      "cell_type": "code",
      "source": [
        "# Estado Misto\n",
        "psi1 = np.array([ [1/np.sqrt(2)], [1/np.sqrt(2) * 1j] ])\n",
        "psi2 = np.array([ [1/np.sqrt(2)], [1/np.sqrt(2) * -1j] ])\n",
        "array_to_latex(psi1)"
      ],
      "metadata": {
        "colab": {
          "base_uri": "https://localhost:8080/",
          "height": 68
        },
        "id": "c2zT8ffHryaP",
        "outputId": "8903cfc5-a762-4480-8608-6726a841cd96"
      },
      "execution_count": null,
      "outputs": [
        {
          "output_type": "execute_result",
          "data": {
            "text/plain": [
              "<IPython.core.display.Latex object>"
            ],
            "text/latex": "$$\n\n\\begin{bmatrix}\n\\frac{\\sqrt{2}}{2}  \\\\\n \\frac{\\sqrt{2} i}{2}  \\\\\n \\end{bmatrix}\n$$"
          },
          "metadata": {},
          "execution_count": 37
        }
      ]
    },
    {
      "cell_type": "code",
      "source": [
        "rho = 0.5 * psi1 @ psi1.conj().T + 0.5 * psi2 @ psi2.conj().T\n",
        "array_to_latex(rho)"
      ],
      "metadata": {
        "colab": {
          "base_uri": "https://localhost:8080/",
          "height": 58
        },
        "id": "rPgKHicjr9un",
        "outputId": "7723f9a0-b75e-40f7-98fb-4be00d8fb95e"
      },
      "execution_count": null,
      "outputs": [
        {
          "output_type": "execute_result",
          "data": {
            "text/plain": [
              "<IPython.core.display.Latex object>"
            ],
            "text/latex": "$$\n\n\\begin{bmatrix}\n\\frac{1}{2} & 0  \\\\\n 0 & \\frac{1}{2}  \\\\\n \\end{bmatrix}\n$$"
          },
          "metadata": {},
          "execution_count": 38
        }
      ]
    },
    {
      "cell_type": "code",
      "source": [
        "# Tr{p}\n",
        "array_to_latex(partial_trace(rho, [0]))"
      ],
      "metadata": {
        "colab": {
          "base_uri": "https://localhost:8080/",
          "height": 39
        },
        "id": "pT4Sl4aOsS_f",
        "outputId": "c6f3381a-926b-4411-f727-6ebc5018ad37"
      },
      "execution_count": null,
      "outputs": [
        {
          "output_type": "execute_result",
          "data": {
            "text/plain": [
              "<IPython.core.display.Latex object>"
            ],
            "text/latex": "$$\n\n\\begin{bmatrix}\n1  \\\\\n \\end{bmatrix}\n$$"
          },
          "metadata": {},
          "execution_count": 39
        }
      ]
    },
    {
      "cell_type": "code",
      "source": [
        "# Tr{p^2}\n",
        "print(np.round(purity(rho), 1))"
      ],
      "metadata": {
        "colab": {
          "base_uri": "https://localhost:8080/"
        },
        "id": "eDLEcC7QsWE6",
        "outputId": "4a6a5f0e-cbe2-49c7-d565-9395a077acb4"
      },
      "execution_count": null,
      "outputs": [
        {
          "output_type": "stream",
          "name": "stdout",
          "text": [
            "(0.5+0j)\n"
          ]
        }
      ]
    },
    {
      "cell_type": "markdown",
      "source": [
        "# Esfera de Bloch"
      ],
      "metadata": {
        "id": "L3BlXMPI11Cl"
      }
    },
    {
      "cell_type": "code",
      "source": [
        "# Criando objeto do tipo esfera\n",
        "b = Bloch()\n",
        "\n",
        "alpha = 1 + 0j\n",
        "beta = 0 + 0j\n",
        "\n",
        "# Cuidado com a multiplicação por 2\n",
        "theta = np.arctan(np.abs(beta) / np.abs(alpha))\n",
        "phi = 0\n",
        "\n",
        "x = np.sin(theta) * np.cos(phi)\n",
        "y = np.sin(theta) * np.sin(phi)\n",
        "z = np.cos(theta)\n",
        "\n",
        "# Definindo ponto\n",
        "b.add_vectors([x, y, z])\n",
        "\n",
        "# Adicionando pontos\n",
        "b.add_vectors([x, y, z])\n",
        "\n",
        "# Visualizando esfera\n",
        "b.show()"
      ],
      "metadata": {
        "colab": {
          "base_uri": "https://localhost:8080/",
          "height": 211
        },
        "id": "DG-Avc2C13v1",
        "outputId": "63696253-7979-47db-be82-5c18511ba748"
      },
      "execution_count": 1,
      "outputs": [
        {
          "output_type": "error",
          "ename": "NameError",
          "evalue": "name 'Bloch' is not defined",
          "traceback": [
            "\u001b[0;31m---------------------------------------------------------------------------\u001b[0m",
            "\u001b[0;31mNameError\u001b[0m                                 Traceback (most recent call last)",
            "\u001b[0;32m/tmp/ipython-input-3864185163.py\u001b[0m in \u001b[0;36m<cell line: 0>\u001b[0;34m()\u001b[0m\n\u001b[1;32m      1\u001b[0m \u001b[0;31m# Criando objeto do tipo esfera\u001b[0m\u001b[0;34m\u001b[0m\u001b[0;34m\u001b[0m\u001b[0m\n\u001b[0;32m----> 2\u001b[0;31m \u001b[0mb\u001b[0m \u001b[0;34m=\u001b[0m \u001b[0mBloch\u001b[0m\u001b[0;34m(\u001b[0m\u001b[0;34m)\u001b[0m\u001b[0;34m\u001b[0m\u001b[0;34m\u001b[0m\u001b[0m\n\u001b[0m\u001b[1;32m      3\u001b[0m \u001b[0;34m\u001b[0m\u001b[0m\n\u001b[1;32m      4\u001b[0m \u001b[0malpha\u001b[0m \u001b[0;34m=\u001b[0m \u001b[0;36m1\u001b[0m \u001b[0;34m+\u001b[0m \u001b[0;36m0j\u001b[0m\u001b[0;34m\u001b[0m\u001b[0;34m\u001b[0m\u001b[0m\n\u001b[1;32m      5\u001b[0m \u001b[0mbeta\u001b[0m \u001b[0;34m=\u001b[0m \u001b[0;36m0\u001b[0m \u001b[0;34m+\u001b[0m \u001b[0;36m0j\u001b[0m\u001b[0;34m\u001b[0m\u001b[0;34m\u001b[0m\u001b[0m\n",
            "\u001b[0;31mNameError\u001b[0m: name 'Bloch' is not defined"
          ]
        }
      ]
    }
  ]
}