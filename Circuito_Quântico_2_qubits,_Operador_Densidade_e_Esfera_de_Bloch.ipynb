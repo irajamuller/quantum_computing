{
  "nbformat": 4,
  "nbformat_minor": 0,
  "metadata": {
    "colab": {
      "provenance": [],
      "authorship_tag": "ABX9TyPjphkR8HiBP+r3GYZTkj/x",
      "include_colab_link": true
    },
    "kernelspec": {
      "name": "python3",
      "display_name": "Python 3"
    },
    "language_info": {
      "name": "python"
    }
  },
  "cells": [
    {
      "cell_type": "markdown",
      "metadata": {
        "id": "view-in-github",
        "colab_type": "text"
      },
      "source": [
        "<a href=\"https://colab.research.google.com/github/irajamuller/quantum_computing/blob/main/Circuito_Qu%C3%A2ntico_2_qubits%2C_Operador_Densidade_e_Esfera_de_Bloch.ipynb\" target=\"_parent\"><img src=\"https://colab.research.google.com/assets/colab-badge.svg\" alt=\"Open In Colab\"/></a>"
      ]
    },
    {
      "cell_type": "code",
      "execution_count": 26,
      "metadata": {
        "id": "Ru5xD9VG8P9o",
        "colab": {
          "base_uri": "https://localhost:8080/"
        },
        "outputId": "e70904cb-eb97-400c-a231-558546418f6a"
      },
      "outputs": [
        {
          "output_type": "stream",
          "name": "stdout",
          "text": [
            "\u001b[2K   \u001b[90m━━━━━━━━━━━━━━━━━━━━━━━━━━━━━━━━━━━━━━━━\u001b[0m \u001b[32m12.4/12.4 MB\u001b[0m \u001b[31m51.5 MB/s\u001b[0m eta \u001b[36m0:00:00\u001b[0m\n",
            "\u001b[?25h"
          ]
        }
      ],
      "source": [
        "!pip install qiskit --quiet\n",
        "!pip install qiskit-aer --quiet\n",
        "!pip install pylatexenc --quiet\n",
        "!pip install qutip --quiet"
      ]
    },
    {
      "cell_type": "code",
      "source": [
        "from qiskit import QuantumCircuit, transpile\n",
        "from qiskit_aer import AerSimulator\n",
        "from qiskit.visualization import plot_histogram, array_to_latex\n",
        "from qutip import Bloch\n",
        "\n",
        "import numpy as np"
      ],
      "metadata": {
        "id": "LKoZCQIgNamJ"
      },
      "execution_count": 28,
      "outputs": []
    },
    {
      "cell_type": "markdown",
      "source": [
        "# Circuito Quântico de 2 qubits"
      ],
      "metadata": {
        "id": "VyVnziufgSo0"
      }
    },
    {
      "cell_type": "code",
      "source": [
        "# Portas quânticas (operações unitárias)\n",
        "I = np.array([ [1, 0], [0, 1] ])\n",
        "X = np.array([ [0, 1], [1, 0] ])\n",
        "H = np.array([ [1, 1], [1, -1] ]) * 1/np.sqrt(2)"
      ],
      "metadata": {
        "id": "OOyU2I9CeOPV"
      },
      "execution_count": 3,
      "outputs": []
    },
    {
      "cell_type": "code",
      "source": [
        "# Estado 2 qubits em |00>\n",
        "ket0 = np.array([ [1], [0] ])\n",
        "ket1 = np.array([ [0], [1] ])\n",
        "psi = np.kron(ket0, ket0)\n",
        "array_to_latex(psi)"
      ],
      "metadata": {
        "colab": {
          "base_uri": "https://localhost:8080/",
          "height": 98
        },
        "id": "5WOzyGMJfIiP",
        "outputId": "8da8c6b8-d3ac-4a9a-cb19-f13ee523c99a"
      },
      "execution_count": 14,
      "outputs": [
        {
          "output_type": "execute_result",
          "data": {
            "text/plain": [
              "<IPython.core.display.Latex object>"
            ],
            "text/latex": "$$\n\n\\begin{bmatrix}\n1  \\\\\n 0  \\\\\n 0  \\\\\n 0  \\\\\n \\end{bmatrix}\n$$"
          },
          "metadata": {},
          "execution_count": 14
        }
      ]
    },
    {
      "cell_type": "code",
      "source": [],
      "metadata": {
        "id": "mqfkjpdCfWH4"
      },
      "execution_count": null,
      "outputs": []
    },
    {
      "cell_type": "code",
      "source": [
        "# Aplicando porta X no primeiro qubit e identidade no segundo qubit\n",
        "psi1 = np.kron(X, I) @ psi\n",
        "array_to_latex(psi1)"
      ],
      "metadata": {
        "colab": {
          "base_uri": "https://localhost:8080/",
          "height": 98
        },
        "id": "b_0X-rdnfi7d",
        "outputId": "b3367cc3-8f7a-43b9-92ca-aa70c4fdf37e"
      },
      "execution_count": 11,
      "outputs": [
        {
          "output_type": "execute_result",
          "data": {
            "text/plain": [
              "<IPython.core.display.Latex object>"
            ],
            "text/latex": "$$\n\n\\begin{bmatrix}\n0  \\\\\n 0  \\\\\n 1  \\\\\n 0  \\\\\n \\end{bmatrix}\n$$"
          },
          "metadata": {},
          "execution_count": 11
        }
      ]
    },
    {
      "cell_type": "code",
      "source": [
        "# Aplicando porta X no primeiro qubit e hadamard no segundo qubit\n",
        "psi2 = np.kron(X, H) @ psi1\n",
        "array_to_latex(psi2)"
      ],
      "metadata": {
        "colab": {
          "base_uri": "https://localhost:8080/",
          "height": 105
        },
        "id": "GtvMOg04f_mz",
        "outputId": "6c237ded-e3a7-46bd-9f9c-0e62a7355730"
      },
      "execution_count": 13,
      "outputs": [
        {
          "output_type": "execute_result",
          "data": {
            "text/plain": [
              "<IPython.core.display.Latex object>"
            ],
            "text/latex": "$$\n\n\\begin{bmatrix}\n\\frac{\\sqrt{2}}{2}  \\\\\n \\frac{\\sqrt{2}}{2}  \\\\\n 0  \\\\\n 0  \\\\\n \\end{bmatrix}\n$$"
          },
          "metadata": {},
          "execution_count": 13
        }
      ]
    },
    {
      "cell_type": "markdown",
      "source": [
        "# Porta CNOT"
      ],
      "metadata": {
        "id": "heKBswMhgXOy"
      }
    },
    {
      "cell_type": "code",
      "source": [
        "CNOT = np.kron(ket0 @ ket0.conj().T, I)\n",
        "CNOT = CNOT + np.kron(ket1 @ ket1.conj().T, X)\n",
        "array_to_latex(CNOT)"
      ],
      "metadata": {
        "colab": {
          "base_uri": "https://localhost:8080/",
          "height": 98
        },
        "id": "ro9cjQfkga7h",
        "outputId": "f7893c6c-d0e8-461b-d896-319332d6f7fc"
      },
      "execution_count": 18,
      "outputs": [
        {
          "output_type": "execute_result",
          "data": {
            "text/plain": [
              "<IPython.core.display.Latex object>"
            ],
            "text/latex": "$$\n\n\\begin{bmatrix}\n1 & 0 & 0 & 0  \\\\\n 0 & 1 & 0 & 0  \\\\\n 0 & 0 & 0 & 1  \\\\\n 0 & 0 & 1 & 0  \\\\\n \\end{bmatrix}\n$$"
          },
          "metadata": {},
          "execution_count": 18
        }
      ]
    },
    {
      "cell_type": "code",
      "source": [
        "# Aplicando a CNOT em dois qubits |10>\n",
        "psi10 = np.kron(ket1, ket0)\n",
        "array_to_latex(CNOT @ psi10)"
      ],
      "metadata": {
        "colab": {
          "base_uri": "https://localhost:8080/",
          "height": 98
        },
        "id": "nowZEosKhEhE",
        "outputId": "89e3bb44-60c2-479f-875d-23bb8c582963"
      },
      "execution_count": 22,
      "outputs": [
        {
          "output_type": "execute_result",
          "data": {
            "text/plain": [
              "<IPython.core.display.Latex object>"
            ],
            "text/latex": "$$\n\n\\begin{bmatrix}\n0  \\\\\n 0  \\\\\n 0  \\\\\n 1  \\\\\n \\end{bmatrix}\n$$"
          },
          "metadata": {},
          "execution_count": 22
        }
      ]
    },
    {
      "cell_type": "code",
      "source": [
        "# Aplicando a CNOT em dois qubits |11>\n",
        "psi11 = np.kron(ket1, ket1)\n",
        "array_to_latex(CNOT @ psi11)"
      ],
      "metadata": {
        "colab": {
          "base_uri": "https://localhost:8080/",
          "height": 98
        },
        "id": "Yc-Um-nShtOK",
        "outputId": "ba6f815d-4346-4a08-d46d-12b0029efa01"
      },
      "execution_count": 23,
      "outputs": [
        {
          "output_type": "execute_result",
          "data": {
            "text/plain": [
              "<IPython.core.display.Latex object>"
            ],
            "text/latex": "$$\n\n\\begin{bmatrix}\n0  \\\\\n 0  \\\\\n 1  \\\\\n 0  \\\\\n \\end{bmatrix}\n$$"
          },
          "metadata": {},
          "execution_count": 23
        }
      ]
    },
    {
      "cell_type": "markdown",
      "source": [
        "# Medição"
      ],
      "metadata": {
        "id": "xDLCBFqCh6ao"
      }
    },
    {
      "cell_type": "code",
      "source": [
        "qc = QuantumCircuit(2, 2)\n",
        "qc.initialize([ np.sqrt(0.2), np.sqrt(0.2), np.sqrt(0.1), np.sqrt(0.5) ], [0, 1])\n",
        "qc.measure([0, 1], [0, 1])\n",
        "qc.draw('mpl')"
      ],
      "metadata": {
        "colab": {
          "base_uri": "https://localhost:8080/",
          "height": 255
        },
        "id": "g2-Q8kH_h4Zr",
        "outputId": "1948e909-5ba3-4f5f-86af-f5efb2fa5664"
      },
      "execution_count": 25,
      "outputs": [
        {
          "output_type": "execute_result",
          "data": {
            "text/plain": [
              "<Figure size 538.128x284.278 with 1 Axes>"
            ],
            "image/png": "[encoded data removed]"
          },
          "metadata": {},
          "execution_count": 25
        }
      ]
    }
  ]
}